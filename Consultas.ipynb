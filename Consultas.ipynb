{
 "cells": [
  {
   "cell_type": "code",
   "execution_count": 1,
   "metadata": {},
   "outputs": [
    {
     "data": {
      "application/vnd.jupyter.widget-view+json": {
       "model_id": "b14cfdb5e5af4ad89d5eacfc03c3fcce",
       "version_major": 2,
       "version_minor": 0
      },
      "text/plain": [
       "VBox()"
      ]
     },
     "metadata": {},
     "output_type": "display_data"
    },
    {
     "name": "stdout",
     "output_type": "stream",
     "text": [
      "Starting Spark application\n"
     ]
    },
    {
     "data": {
      "text/html": [
       "<table>\n",
       "<tr><th>ID</th><th>YARN Application ID</th><th>Kind</th><th>State</th><th>Spark UI</th><th>Driver log</th><th>Current session?</th></tr><tr><td>0</td><td>application_1607037283242_0002</td><td>pyspark</td><td>idle</td><td><a target=\"_blank\" href=\"http://ip-172-31-14-90.ec2.internal:20888/proxy/application_1607037283242_0002/\">Link</a></td><td><a target=\"_blank\" href=\"http://ip-172-31-12-18.ec2.internal:8042/node/containerlogs/container_1607037283242_0002_01_000001/livy\">Link</a></td><td>✔</td></tr></table>"
      ],
      "text/plain": [
       "<IPython.core.display.HTML object>"
      ]
     },
     "metadata": {},
     "output_type": "display_data"
    },
    {
     "data": {
      "application/vnd.jupyter.widget-view+json": {
       "model_id": "",
       "version_major": 2,
       "version_minor": 0
      },
      "text/plain": [
       "FloatProgress(value=0.0, bar_style='info', description='Progress:', layout=Layout(height='25px', width='50%'),…"
      ]
     },
     "metadata": {},
     "output_type": "display_data"
    },
    {
     "name": "stdout",
     "output_type": "stream",
     "text": [
      "SparkSession available as 'spark'.\n"
     ]
    },
    {
     "data": {
      "application/vnd.jupyter.widget-view+json": {
       "model_id": "",
       "version_major": 2,
       "version_minor": 0
      },
      "text/plain": [
       "FloatProgress(value=0.0, bar_style='info', description='Progress:', layout=Layout(height='25px', width='50%'),…"
      ]
     },
     "metadata": {},
     "output_type": "display_data"
    }
   ],
   "source": [
    "from pyspark.sql import SparkSession\n",
    "import pyspark.sql.functions as f\n",
    "\n",
    "spark = SparkSession.builder.getOrCreate()"
   ]
  },
  {
   "cell_type": "code",
   "execution_count": 2,
   "metadata": {},
   "outputs": [
    {
     "data": {
      "application/vnd.jupyter.widget-view+json": {
       "model_id": "7c593fc4dfb142d8b76941d7f38c1d67",
       "version_major": 2,
       "version_minor": 0
      },
      "text/plain": [
       "VBox()"
      ]
     },
     "metadata": {},
     "output_type": "display_data"
    },
    {
     "data": {
      "application/vnd.jupyter.widget-view+json": {
       "model_id": "",
       "version_major": 2,
       "version_minor": 0
      },
      "text/plain": [
       "FloatProgress(value=0.0, bar_style='info', description='Progress:', layout=Layout(height='25px', width='50%'),…"
      ]
     },
     "metadata": {},
     "output_type": "display_data"
    },
    {
     "name": "stdout",
     "output_type": "stream",
     "text": [
      "[Row(fecha reporte web='6/3/2020 0:00:00', ID de caso=1, Fecha de notificación='2/3/2020 0:00:00', Código DIVIPOLA departamento=11, Nombre departamento='BOGOTA', Código DIVIPOLA municipio=11001, Nombre municipio='BOGOTA', Edad=19, Unidad de medida de edad=1, Sexo='F', Tipo de contagio='Importado', Ubicación del caso='Casa', Estado='Leve', Código ISO del país=380, Nombre del país='ITALIA', Recuperado='Recuperado', Fecha de inicio de síntomas='27/2/2020 0:00:00', Fecha de muerte=None, Fecha de diagnóstico='6/3/2020 0:00:00', Fecha de recuperación='13/3/2020 0:00:00', Tipo de recuperación='PCR', Pertenencia étnica=6, Nombre del grupo étnico=None)]"
     ]
    }
   ],
   "source": [
    "Df = spark.read.options(header='True', inferSchema='True', delimiter=',') .csv (\"s3://bucketpruebabigdata/RAW/datos-covid.csv\")\n",
    "Df.take(1)"
   ]
  },
  {
   "cell_type": "code",
   "execution_count": 9,
   "metadata": {},
   "outputs": [
    {
     "data": {
      "application/vnd.jupyter.widget-view+json": {
       "model_id": "4e439febb25d460bb92509f0cda72d17",
       "version_major": 2,
       "version_minor": 0
      },
      "text/plain": [
       "VBox()"
      ]
     },
     "metadata": {},
     "output_type": "display_data"
    },
    {
     "data": {
      "application/vnd.jupyter.widget-view+json": {
       "model_id": "",
       "version_major": 2,
       "version_minor": 0
      },
      "text/plain": [
       "FloatProgress(value=0.0, bar_style='info', description='Progress:', layout=Layout(height='25px', width='50%'),…"
      ]
     },
     "metadata": {},
     "output_type": "display_data"
    }
   ],
   "source": [
    "Df.registerTempTable(\"df\")\n"
   ]
  },
  {
   "cell_type": "code",
   "execution_count": 13,
   "metadata": {},
   "outputs": [
    {
     "data": {
      "application/vnd.jupyter.widget-view+json": {
       "model_id": "d1356cb3e1714485b6437c5b404600e4",
       "version_major": 2,
       "version_minor": 0
      },
      "text/plain": [
       "VBox()"
      ]
     },
     "metadata": {},
     "output_type": "display_data"
    },
    {
     "data": {
      "application/vnd.jupyter.widget-view+json": {
       "model_id": "",
       "version_major": 2,
       "version_minor": 0
      },
      "text/plain": [
       "FloatProgress(value=0.0, bar_style='info', description='Progress:', layout=Layout(height='25px', width='50%'),…"
      ]
     },
     "metadata": {},
     "output_type": "display_data"
    },
    {
     "name": "stdout",
     "output_type": "stream",
     "text": [
      "+-------------------+------------------+--------------------------+\n",
      "|Nombre departamento| fecha reporte web|count(DISTINCT ID de caso)|\n",
      "+-------------------+------------------+--------------------------+\n",
      "|             NARIÑO| 6/11/2020 0:00:00|                       198|\n",
      "|          ANTIOQUIA| 22/8/2020 0:00:00|                      1304|\n",
      "|              CAUCA|  6/9/2020 0:00:00|                       256|\n",
      "|     STA MARTA D.E.| 27/8/2020 0:00:00|                        89|\n",
      "|           AMAZONAS|  7/8/2020 0:00:00|                        28|\n",
      "|          CARTAGENA|  6/6/2020 0:00:00|                        98|\n",
      "|             NARIÑO|11/10/2020 0:00:00|                       156|\n",
      "|    NORTE SANTANDER| 1/12/2020 0:00:00|                       219|\n",
      "|          CARTAGENA| 11/9/2020 0:00:00|                        99|\n",
      "|             TOLIMA| 31/5/2020 0:00:00|                        15|\n",
      "|          CARTAGENA|  3/7/2020 0:00:00|                       211|\n",
      "|           GUAVIARE| 17/9/2020 0:00:00|                        46|\n",
      "|            CORDOBA| 9/10/2020 0:00:00|                        42|\n",
      "|          ATLANTICO| 11/8/2020 0:00:00|                       186|\n",
      "|              CESAR| 20/9/2020 0:00:00|                       168|\n",
      "|              CAUCA| 8/11/2020 0:00:00|                        94|\n",
      "|            BOLIVAR| 6/10/2020 0:00:00|                        38|\n",
      "|          ANTIOQUIA| 23/8/2020 0:00:00|                      1537|\n",
      "|          SANTANDER| 27/8/2020 0:00:00|                       763|\n",
      "|          ANTIOQUIA| 14/6/2020 0:00:00|                       137|\n",
      "+-------------------+------------------+--------------------------+\n",
      "only showing top 20 rows"
     ]
    }
   ],
   "source": [
    "spark.sql(\"\"\"SELECT `Nombre departamento`,`fecha reporte web`,COUNT(DISTINCT `ID de caso`) FROM df GROUP BY `Nombre departamento` , `Fecha reporte web`;\"\"\").show()"
   ]
  },
  {
   "cell_type": "code",
   "execution_count": 14,
   "metadata": {},
   "outputs": [
    {
     "data": {
      "application/vnd.jupyter.widget-view+json": {
       "model_id": "6084521975b14218bedb11d76fb60aa2",
       "version_major": 2,
       "version_minor": 0
      },
      "text/plain": [
       "VBox()"
      ]
     },
     "metadata": {},
     "output_type": "display_data"
    },
    {
     "data": {
      "application/vnd.jupyter.widget-view+json": {
       "model_id": "",
       "version_major": 2,
       "version_minor": 0
      },
      "text/plain": [
       "FloatProgress(value=0.0, bar_style='info', description='Progress:', layout=Layout(height='25px', width='50%'),…"
      ]
     },
     "metadata": {},
     "output_type": "display_data"
    },
    {
     "name": "stdout",
     "output_type": "stream",
     "text": [
      "+----+---------+------------------+--------------------------+\n",
      "|Sexo|   Estado| fecha reporte web|count(DISTINCT ID de caso)|\n",
      "+----+---------+------------------+--------------------------+\n",
      "|   F|     Leve| 18/4/2020 0:00:00|                        86|\n",
      "|   F|     Leve| 16/7/2020 0:00:00|                      3522|\n",
      "|   M|Fallecido|  2/5/2020 0:00:00|                        15|\n",
      "|   F|Fallecido|28/10/2020 0:00:00|                        64|\n",
      "|   M|     Leve| 23/5/2020 0:00:00|                       519|\n",
      "|   M|Fallecido| 7/10/2020 0:00:00|                       109|\n",
      "|   F| Moderado| 1/10/2020 0:00:00|                        75|\n",
      "|   M|     Leve|11/10/2020 0:00:00|                      4010|\n",
      "|   M|     Leve|  2/4/2020 0:00:00|                        40|\n",
      "|   F| Moderado| 3/10/2020 0:00:00|                        68|\n",
      "|   F|     Leve|  8/6/2020 0:00:00|                       717|\n",
      "|   M|     Leve| 22/7/2020 0:00:00|                      3540|\n",
      "|   M|     Leve| 30/9/2020 0:00:00|                      2497|\n",
      "|   F| Moderado| 18/9/2020 0:00:00|                        80|\n",
      "|   F|Fallecido|16/11/2020 0:00:00|                        39|\n",
      "|   M| Moderado| 8/11/2020 0:00:00|                        74|\n",
      "|   M|      N/A|  9/8/2020 0:00:00|                        23|\n",
      "|   F|     Leve| 27/4/2020 0:00:00|                       106|\n",
      "|   M| Moderado| 29/7/2020 0:00:00|                       102|\n",
      "|   M| Moderado|22/11/2020 0:00:00|                       106|\n",
      "+----+---------+------------------+--------------------------+\n",
      "only showing top 20 rows"
     ]
    }
   ],
   "source": [
    "spark.sql(\"\"\"SELECT `Sexo`,`Estado`,`fecha reporte web`,COUNT(DISTINCT `ID de caso`) FROM df GROUP BY `Fecha reporte web` , `Estado`, `Sexo`;\"\"\").show()"
   ]
  },
  {
   "cell_type": "code",
   "execution_count": 15,
   "metadata": {},
   "outputs": [
    {
     "data": {
      "application/vnd.jupyter.widget-view+json": {
       "model_id": "3a6ea2929e44464fb2e9cd16b4a32b9b",
       "version_major": 2,
       "version_minor": 0
      },
      "text/plain": [
       "VBox()"
      ]
     },
     "metadata": {},
     "output_type": "display_data"
    },
    {
     "data": {
      "application/vnd.jupyter.widget-view+json": {
       "model_id": "",
       "version_major": 2,
       "version_minor": 0
      },
      "text/plain": [
       "FloatProgress(value=0.0, bar_style='info', description='Progress:', layout=Layout(height='25px', width='50%'),…"
      ]
     },
     "metadata": {},
     "output_type": "display_data"
    },
    {
     "name": "stdout",
     "output_type": "stream",
     "text": [
      "+----+---------+------------------+--------------------------+\n",
      "|Edad|   Estado| fecha reporte web|count(DISTINCT ID de caso)|\n",
      "+----+---------+------------------+--------------------------+\n",
      "|  84|      N/A| 16/6/2020 0:00:00|                         1|\n",
      "|  28|     Leve|  4/7/2020 0:00:00|                       124|\n",
      "|  53|     Leve| 26/6/2020 0:00:00|                        42|\n",
      "|  62|     Leve| 29/6/2020 0:00:00|                        16|\n",
      "|  95|      N/A| 30/8/2020 0:00:00|                         1|\n",
      "|  37|     Leve| 29/9/2020 0:00:00|                       144|\n",
      "|  56|     Leve| 6/10/2020 0:00:00|                       106|\n",
      "|  49|     Leve|11/10/2020 0:00:00|                       126|\n",
      "|  76|     Leve|27/11/2020 0:00:00|                        29|\n",
      "|  49| Moderado|10/11/2020 0:00:00|                         6|\n",
      "|  69|     Leve| 29/5/2020 0:00:00|                         8|\n",
      "|  37|     Leve| 14/7/2020 0:00:00|                       113|\n",
      "|  66|      N/A|  6/7/2020 0:00:00|                         2|\n",
      "|  34|     Leve| 30/7/2020 0:00:00|                       203|\n",
      "|  65|Fallecido| 17/7/2020 0:00:00|                         6|\n",
      "|  73|     Leve| 27/6/2020 0:00:00|                        15|\n",
      "|  48|     Leve| 20/5/2020 0:00:00|                        10|\n",
      "|  57|     Leve| 11/4/2020 0:00:00|                         5|\n",
      "|  27|     Leve|19/11/2020 0:00:00|                       179|\n",
      "|  35|     Leve| 13/9/2020 0:00:00|                       178|\n",
      "+----+---------+------------------+--------------------------+\n",
      "only showing top 20 rows"
     ]
    }
   ],
   "source": [
    "spark.sql(\"\"\"SELECT `Edad`,`Estado`,`fecha reporte web`,COUNT(DISTINCT `ID de caso`) FROM df GROUP BY `Fecha reporte web` , `Estado`, `Edad`;\"\"\").show()"
   ]
  },
  {
   "cell_type": "code",
   "execution_count": 16,
   "metadata": {},
   "outputs": [
    {
     "data": {
      "application/vnd.jupyter.widget-view+json": {
       "model_id": "7cf2ecf7ab9546c8aae10cfaf65d282c",
       "version_major": 2,
       "version_minor": 0
      },
      "text/plain": [
       "VBox()"
      ]
     },
     "metadata": {},
     "output_type": "display_data"
    },
    {
     "data": {
      "application/vnd.jupyter.widget-view+json": {
       "model_id": "",
       "version_major": 2,
       "version_minor": 0
      },
      "text/plain": [
       "FloatProgress(value=0.0, bar_style='info', description='Progress:', layout=Layout(height='25px', width='50%'),…"
      ]
     },
     "metadata": {},
     "output_type": "display_data"
    }
   ],
   "source": [
    "spark.sql(\"\"\"SELECT `Nombre departamento`,`fecha reporte web`,COUNT(DISTINCT `ID de caso`) FROM df GROUP BY `Nombre departamento` , `Fecha reporte web`;\"\"\").coalesce(1).write.save(\"s3://bucketpruebabigdata/REFINED/casos-departamento-fecha\", format='csv', header=False, mode=\"overwrite\")\n",
    "spark.sql(\"\"\"SELECT `Sexo`,`Estado`,`fecha reporte web`,COUNT(DISTINCT `ID de caso`) FROM df GROUP BY `Fecha reporte web` , `Estado`, `Sexo`;\"\"\").coalesce(1).write.save(\"s3://bucketpruebabigdata/REFINED/casos-sexo-fecha\", format='csv', header=False, mode=\"overwrite\")\n",
    "spark.sql(\"\"\"SELECT `Edad`,`Estado`,`fecha reporte web`,COUNT(DISTINCT `ID de caso`) FROM df GROUP BY `Fecha reporte web` , `Estado`, `Edad`;\"\"\").coalesce(1).write.save(\"s3://bucketpruebabigdata/REFINED/casos-edad-fecha\", format='csv', header=False, mode=\"overwrite\")"
   ]
  },
  {
   "cell_type": "code",
   "execution_count": null,
   "metadata": {},
   "outputs": [],
   "source": []
  }
 ],
 "metadata": {
  "kernelspec": {
   "display_name": "PySpark",
   "language": "",
   "name": "pysparkkernel"
  },
  "language_info": {
   "codemirror_mode": {
    "name": "python",
    "version": 2
   },
   "mimetype": "text/x-python",
   "name": "pyspark",
   "pygments_lexer": "python2"
  }
 },
 "nbformat": 4,
 "nbformat_minor": 4
}
